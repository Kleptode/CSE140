{
  "nbformat": 4,
  "nbformat_minor": 0,
  "metadata": {
    "colab": {
      "name": "CSE140 Group26.ipynb",
      "provenance": [],
      "collapsed_sections": [],
      "toc_visible": true
    },
    "kernelspec": {
      "name": "python3",
      "display_name": "Python 3"
    }
  },
  "cells": [
    {
      "cell_type": "code",
      "metadata": {
        "id": "jTa-gEtd2kid",
        "colab_type": "code",
        "colab": {
          "base_uri": "https://localhost:8080/",
          "height": 935
        },
        "outputId": "e3676061-fe84-403b-ad63-8c7eda6930e9"
      },
      "source": [
        "#Creates directories for data to be stored\n",
        "!mkdir /content/db/\n",
        "!mkdir /content/db/chb01/\n",
        "\n",
        "#Pulls patient 01's files from a Google Cloud Storage\n",
        "#For the sake of saving grader's time we will only be using 1 patients files\n",
        "!gsutil -m cp -r gs://chbmit-1.0.0.physionet.org/chb01/* /content/db/chb01/"
      ],
      "execution_count": null,
      "outputs": [
        {
          "output_type": "stream",
          "text": [
            "mkdir: cannot create directory ‘/content/db/’: File exists\n",
            "mkdir: cannot create directory ‘/content/db/chb01/’: File exists\n",
            "Copying gs://chbmit-1.0.0.physionet.org/chb01/chb01-summary.txt...\n",
            "Copying gs://chbmit-1.0.0.physionet.org/chb01/chb01_01.edf...\n",
            "Copying gs://chbmit-1.0.0.physionet.org/chb01/chb01_03.edf...\n",
            "Copying gs://chbmit-1.0.0.physionet.org/chb01/chb01_03.edf.seizures...\n",
            "Copying gs://chbmit-1.0.0.physionet.org/chb01/chb01_04.edf.seizures...\n",
            "Copying gs://chbmit-1.0.0.physionet.org/chb01/chb01_02.edf...\n",
            "Copying gs://chbmit-1.0.0.physionet.org/chb01/chb01_06.edf...\n",
            "Copying gs://chbmit-1.0.0.physionet.org/chb01/chb01_04.edf...\n",
            "Copying gs://chbmit-1.0.0.physionet.org/chb01/chb01_07.edf...\n",
            "Copying gs://chbmit-1.0.0.physionet.org/chb01/chb01_05.edf...\n",
            "Copying gs://chbmit-1.0.0.physionet.org/chb01/chb01_08.edf...\n",
            "Copying gs://chbmit-1.0.0.physionet.org/chb01/chb01_09.edf...\n",
            "Copying gs://chbmit-1.0.0.physionet.org/chb01/chb01_10.edf...\n",
            "Copying gs://chbmit-1.0.0.physionet.org/chb01/chb01_11.edf...\n",
            "Copying gs://chbmit-1.0.0.physionet.org/chb01/chb01_12.edf...\n",
            "Copying gs://chbmit-1.0.0.physionet.org/chb01/chb01_13.edf...\n",
            "Copying gs://chbmit-1.0.0.physionet.org/chb01/chb01_14.edf...\n",
            "Copying gs://chbmit-1.0.0.physionet.org/chb01/chb01_15.edf...\n",
            "Copying gs://chbmit-1.0.0.physionet.org/chb01/chb01_15.edf.seizures...\n",
            "Copying gs://chbmit-1.0.0.physionet.org/chb01/chb01_16.edf...\n",
            "Copying gs://chbmit-1.0.0.physionet.org/chb01/chb01_16.edf.seizures...\n",
            "Copying gs://chbmit-1.0.0.physionet.org/chb01/chb01_17.edf...\n",
            "Copying gs://chbmit-1.0.0.physionet.org/chb01/chb01_18.edf...\n",
            "Copying gs://chbmit-1.0.0.physionet.org/chb01/chb01_18.edf.seizures...\n",
            "Copying gs://chbmit-1.0.0.physionet.org/chb01/chb01_19.edf...\n",
            "Copying gs://chbmit-1.0.0.physionet.org/chb01/chb01_20.edf...\n",
            "Copying gs://chbmit-1.0.0.physionet.org/chb01/chb01_21.edf...\n",
            "Copying gs://chbmit-1.0.0.physionet.org/chb01/chb01_21.edf.seizures...\n",
            "Copying gs://chbmit-1.0.0.physionet.org/chb01/chb01_22.edf...\n",
            "Copying gs://chbmit-1.0.0.physionet.org/chb01/chb01_24.edf...\n",
            "Copying gs://chbmit-1.0.0.physionet.org/chb01/chb01_23.edf...\n",
            "Copying gs://chbmit-1.0.0.physionet.org/chb01/chb01_25.edf...\n",
            "Copying gs://chbmit-1.0.0.physionet.org/chb01/chb01_26.edf...\n",
            "Copying gs://chbmit-1.0.0.physionet.org/chb01/chb01_26.edf.seizures...\n",
            "Copying gs://chbmit-1.0.0.physionet.org/chb01/chb01_27.edf...\n",
            "Copying gs://chbmit-1.0.0.physionet.org/chb01/chb01_29.edf...\n",
            "Copying gs://chbmit-1.0.0.physionet.org/chb01/chb01_30.edf...\n",
            "Copying gs://chbmit-1.0.0.physionet.org/chb01/chb01_31.edf...\n",
            "Copying gs://chbmit-1.0.0.physionet.org/chb01/chb01_32.edf...\n",
            "Copying gs://chbmit-1.0.0.physionet.org/chb01/chb01_33.edf...\n",
            "Copying gs://chbmit-1.0.0.physionet.org/chb01/chb01_34.edf...\n",
            "Copying gs://chbmit-1.0.0.physionet.org/chb01/chb01_36.edf...\n",
            "Copying gs://chbmit-1.0.0.physionet.org/chb01/chb01_37.edf...\n",
            "Copying gs://chbmit-1.0.0.physionet.org/chb01/chb01_39.edf...\n",
            "Copying gs://chbmit-1.0.0.physionet.org/chb01/chb01_38.edf...\n",
            "Copying gs://chbmit-1.0.0.physionet.org/chb01/chb01_40.edf...\n",
            "Copying gs://chbmit-1.0.0.physionet.org/chb01/chb01_41.edf...\n",
            "Copying gs://chbmit-1.0.0.physionet.org/chb01/chb01_42.edf...\n",
            "Copying gs://chbmit-1.0.0.physionet.org/chb01/chb01_43.edf...\n",
            "Copying gs://chbmit-1.0.0.physionet.org/chb01/chb01_46.edf...\n",
            "- [50/50 files][  1.6 GiB/  1.6 GiB] 100% Done 107.0 MiB/s ETA 00:00:00         \n",
            "Operation completed over 50 objects/1.6 GiB.                                     \n"
          ],
          "name": "stdout"
        }
      ]
    },
    {
      "cell_type": "code",
      "metadata": {
        "id": "Y-0TQjA4PdbL",
        "colab_type": "code",
        "colab": {
          "base_uri": "https://localhost:8080/",
          "height": 1000
        },
        "outputId": "49ee143f-c146-461d-f504-6d073a4a558a"
      },
      "source": [
        "%matplotlib inline\n",
        "\n",
        "#Installation of MNE for colab, Causes errors but still works\n",
        "!wget \"https://raw.githubusercontent.com/mne-tools/mne-python/master/requirements.txt\"\n",
        "!pip install -r \"/content/requirements.txt\"\n",
        "!pip install -U mne\n",
        "import mne\n",
        "import numpy as np\n",
        "import pandas as pd\n",
        "import sys"
      ],
      "execution_count": null,
      "outputs": [
        {
          "output_type": "stream",
          "text": [
            "--2020-03-18 05:30:19--  https://raw.githubusercontent.com/mne-tools/mne-python/master/requirements.txt\n",
            "Resolving raw.githubusercontent.com (raw.githubusercontent.com)... 151.101.0.133, 151.101.64.133, 151.101.128.133, ...\n",
            "Connecting to raw.githubusercontent.com (raw.githubusercontent.com)|151.101.0.133|:443... connected.\n",
            "HTTP request sent, awaiting response... 200 OK\n",
            "Length: 482 [text/plain]\n",
            "Saving to: ‘requirements.txt.2’\n",
            "\n",
            "\rrequirements.txt.2    0%[                    ]       0  --.-KB/s               \rrequirements.txt.2  100%[===================>]     482  --.-KB/s    in 0s      \n",
            "\n",
            "2020-03-18 05:30:19 (73.7 MB/s) - ‘requirements.txt.2’ saved [482/482]\n",
            "\n",
            "Collecting https://api.github.com/repos/numpy/numpydoc/zipball/master (from -r /content/requirements.txt (line 24))\n",
            "  Using cached https://api.github.com/repos/numpy/numpydoc/zipball/master\n",
            "Collecting https://api.github.com/repos/mcmtroffaes/sphinxcontrib-bibtex/zipball/29694f215b39d64a31b845aafd9ff2ae9329494f (from -r /content/requirements.txt (line 32))\n",
            "  Using cached https://api.github.com/repos/mcmtroffaes/sphinxcontrib-bibtex/zipball/29694f215b39d64a31b845aafd9ff2ae9329494f\n",
            "Requirement already satisfied: numpy in /usr/local/lib/python3.6/dist-packages (from -r /content/requirements.txt (line 1)) (1.18.1)\n",
            "Requirement already satisfied: scipy in /usr/local/lib/python3.6/dist-packages (from -r /content/requirements.txt (line 2)) (1.4.1)\n",
            "Requirement already satisfied: matplotlib in /usr/local/lib/python3.6/dist-packages (from -r /content/requirements.txt (line 3)) (3.2.0)\n",
            "Requirement already satisfied: pyqt5!=5.14.1 in /usr/local/lib/python3.6/dist-packages (from -r /content/requirements.txt (line 4)) (5.14.0)\n",
            "Requirement already satisfied: pyqt5-sip in /usr/local/lib/python3.6/dist-packages (from -r /content/requirements.txt (line 5)) (12.7.1)\n",
            "Requirement already satisfied: sip in /usr/local/lib/python3.6/dist-packages (from -r /content/requirements.txt (line 6)) (5.1.1)\n",
            "Requirement already satisfied: scikit-learn in /usr/local/lib/python3.6/dist-packages (from -r /content/requirements.txt (line 7)) (0.22.2.post1)\n",
            "Requirement already satisfied: nibabel in /usr/local/lib/python3.6/dist-packages (from -r /content/requirements.txt (line 8)) (3.0.2)\n",
            "Requirement already satisfied: numba in /usr/local/lib/python3.6/dist-packages (from -r /content/requirements.txt (line 9)) (0.47.0)\n",
            "Requirement already satisfied: h5py in /usr/local/lib/python3.6/dist-packages (from -r /content/requirements.txt (line 10)) (2.8.0)\n",
            "Requirement already satisfied: pandas in /usr/local/lib/python3.6/dist-packages (from -r /content/requirements.txt (line 11)) (0.25.3)\n",
            "Requirement already satisfied: numexpr in /usr/local/lib/python3.6/dist-packages (from -r /content/requirements.txt (line 12)) (2.7.1)\n",
            "Requirement already satisfied: python-picard in /usr/local/lib/python3.6/dist-packages (from -r /content/requirements.txt (line 13)) (0.4)\n",
            "Requirement already satisfied: statsmodels in /usr/local/lib/python3.6/dist-packages (from -r /content/requirements.txt (line 14)) (0.10.2)\n",
            "Requirement already satisfied: pytest!=4.6.0,<5.4 in /usr/local/lib/python3.6/dist-packages (from -r /content/requirements.txt (line 15)) (3.6.4)\n",
            "Requirement already satisfied: pytest-cov in /usr/local/lib/python3.6/dist-packages (from -r /content/requirements.txt (line 16)) (2.8.1)\n",
            "Requirement already satisfied: pytest-faulthandler in /usr/local/lib/python3.6/dist-packages (from -r /content/requirements.txt (line 17)) (2.0.1)\n",
            "Requirement already satisfied: pytest-mock in /usr/local/lib/python3.6/dist-packages (from -r /content/requirements.txt (line 18)) (2.0.0)\n",
            "Requirement already satisfied: pytest-sugar in /usr/local/lib/python3.6/dist-packages (from -r /content/requirements.txt (line 19)) (0.9.2)\n",
            "Requirement already satisfied: pytest-timeout in /usr/local/lib/python3.6/dist-packages (from -r /content/requirements.txt (line 20)) (1.3.4)\n",
            "Requirement already satisfied: joblib in /usr/local/lib/python3.6/dist-packages (from -r /content/requirements.txt (line 21)) (0.14.1)\n",
            "Requirement already satisfied: psutil in /usr/local/lib/python3.6/dist-packages (from -r /content/requirements.txt (line 22)) (5.4.8)\n",
            "Requirement already satisfied: dipy in /usr/local/lib/python3.6/dist-packages (from -r /content/requirements.txt (line 23)) (1.1.1)\n",
            "Collecting mayavi\n",
            "  Using cached https://files.pythonhosted.org/packages/08/ea/eb808cb4df8f92bc4d9f9a1ef14566b9b5d60370e6ecbaf9061cdae335fa/mayavi-4.7.1.tar.bz2\n",
            "Collecting PySurfer[save_movie]\n",
            "  Using cached https://files.pythonhosted.org/packages/3f/86/2b6a2a50166b6d375209b45b300d3b1b494ebeeb01f5fb3e1130de44501d/pysurfer-0.10.0-py3-none-any.whl\n",
            "Collecting nilearn\n",
            "  Using cached https://files.pythonhosted.org/packages/b9/c2/f5f1bdd37a3da28b3b34305e4ba27cce468db6073998d62a38abd0e281da/nilearn-0.6.2-py3-none-any.whl\n",
            "Processing /root/.cache/pip/wheels/28/35/f4/273432a8b9eb6c9182e666e9630cc92c221dabe81462606d9c/neo-0.8.0-cp36-none-any.whl\n",
            "Requirement already satisfied: xlrd in /usr/local/lib/python3.6/dist-packages (from -r /content/requirements.txt (line 29)) (1.1.0)\n",
            "Collecting pydocstyle\n",
            "  Using cached https://files.pythonhosted.org/packages/cc/fb/0662498401c663606ef35b4ec6a0aca6b4121d6da8c3ac40a4e68f6ac521/pydocstyle-5.0.2-py3-none-any.whl\n",
            "Collecting flake8\n",
            "  Using cached https://files.pythonhosted.org/packages/f8/1f/7ea40d1e4146ea55dbab41cda1376db092a75794914169aabd7e8d7a7def/flake8-3.7.9-py2.py3-none-any.whl\n",
            "Processing /root/.cache/pip/wheels/1a/d5/f8/19b2fd4a44bebb585626f0e87989c7a1e2c3f4fcf587420d02/pyvista-0.24.0-cp36-none-any.whl\n",
            "Requirement already satisfied: sphinx>=1.6.5 in /usr/local/lib/python3.6/dist-packages (from numpydoc==1.0.0.dev0->-r /content/requirements.txt (line 24)) (1.8.5)\n",
            "Requirement already satisfied: Jinja2>=2.3 in /usr/local/lib/python3.6/dist-packages (from numpydoc==1.0.0.dev0->-r /content/requirements.txt (line 24)) (2.11.1)\n",
            "Collecting pybtex>=0.20\n",
            "  Using cached https://files.pythonhosted.org/packages/94/2a/11039970561f1bbc74fbaca89b59c26b398a0a70bba8caad553ac779b4f7/pybtex-0.22.2-py2.py3-none-any.whl\n",
            "Collecting pybtex-docutils>=0.2.2\n",
            "  Using cached https://files.pythonhosted.org/packages/e9/97/066aa09efc1a1f969ffc6ca0e697787a3b8eb9e847a9b5973c0f73119318/pybtex_docutils-0.2.2-py2.py3-none-any.whl\n",
            "Processing /root/.cache/pip/wheels/4e/87/c8/3dad2dca279f64fb68af5d9908c380fee2f16488a1b1da3499/oset-0.1.3-cp36-none-any.whl\n",
            "Requirement already satisfied: python-dateutil>=2.1 in /usr/local/lib/python3.6/dist-packages (from matplotlib->-r /content/requirements.txt (line 3)) (2.8.1)\n",
            "Requirement already satisfied: cycler>=0.10 in /usr/local/lib/python3.6/dist-packages (from matplotlib->-r /content/requirements.txt (line 3)) (0.10.0)\n",
            "Requirement already satisfied: pyparsing!=2.0.4,!=2.1.2,!=2.1.6,>=2.0.1 in /usr/local/lib/python3.6/dist-packages (from matplotlib->-r /content/requirements.txt (line 3)) (2.4.6)\n",
            "Requirement already satisfied: kiwisolver>=1.0.1 in /usr/local/lib/python3.6/dist-packages (from matplotlib->-r /content/requirements.txt (line 3)) (1.1.0)\n",
            "Requirement already satisfied: packaging in /usr/local/lib/python3.6/dist-packages (from sip->-r /content/requirements.txt (line 6)) (20.3)\n",
            "Requirement already satisfied: toml in /usr/local/lib/python3.6/dist-packages (from sip->-r /content/requirements.txt (line 6)) (0.10.0)\n",
            "Requirement already satisfied: llvmlite>=0.31.0dev0 in /usr/local/lib/python3.6/dist-packages (from numba->-r /content/requirements.txt (line 9)) (0.31.0)\n",
            "Requirement already satisfied: setuptools in /usr/local/lib/python3.6/dist-packages (from numba->-r /content/requirements.txt (line 9)) (45.2.0)\n",
            "Requirement already satisfied: six in /usr/local/lib/python3.6/dist-packages (from h5py->-r /content/requirements.txt (line 10)) (1.12.0)\n",
            "Requirement already satisfied: pytz>=2017.2 in /usr/local/lib/python3.6/dist-packages (from pandas->-r /content/requirements.txt (line 11)) (2018.9)\n",
            "Requirement already satisfied: patsy>=0.4.0 in /usr/local/lib/python3.6/dist-packages (from statsmodels->-r /content/requirements.txt (line 14)) (0.5.1)\n",
            "Requirement already satisfied: py>=1.5.0 in /usr/local/lib/python3.6/dist-packages (from pytest!=4.6.0,<5.4->-r /content/requirements.txt (line 15)) (1.8.1)\n",
            "Requirement already satisfied: more-itertools>=4.0.0 in /usr/local/lib/python3.6/dist-packages (from pytest!=4.6.0,<5.4->-r /content/requirements.txt (line 15)) (8.2.0)\n",
            "Requirement already satisfied: pluggy<0.8,>=0.5 in /usr/local/lib/python3.6/dist-packages (from pytest!=4.6.0,<5.4->-r /content/requirements.txt (line 15)) (0.7.1)\n",
            "Requirement already satisfied: atomicwrites>=1.0 in /usr/local/lib/python3.6/dist-packages (from pytest!=4.6.0,<5.4->-r /content/requirements.txt (line 15)) (1.3.0)\n",
            "Requirement already satisfied: attrs>=17.4.0 in /usr/local/lib/python3.6/dist-packages (from pytest!=4.6.0,<5.4->-r /content/requirements.txt (line 15)) (19.3.0)\n",
            "Requirement already satisfied: coverage>=4.4 in /usr/local/lib/python3.6/dist-packages (from pytest-cov->-r /content/requirements.txt (line 16)) (5.0.4)\n",
            "Requirement already satisfied: termcolor>=1.1.0 in /usr/local/lib/python3.6/dist-packages (from pytest-sugar->-r /content/requirements.txt (line 19)) (1.1.0)\n",
            "Requirement already satisfied: apptools in /usr/local/lib/python3.6/dist-packages (from mayavi->-r /content/requirements.txt (line 25)) (4.5.0)\n",
            "Requirement already satisfied: envisage in /usr/local/lib/python3.6/dist-packages (from mayavi->-r /content/requirements.txt (line 25)) (4.9.2)\n",
            "Requirement already satisfied: pyface>=6.1.1 in /usr/local/lib/python3.6/dist-packages (from mayavi->-r /content/requirements.txt (line 25)) (6.1.2)\n",
            "Requirement already satisfied: pygments in /usr/local/lib/python3.6/dist-packages (from mayavi->-r /content/requirements.txt (line 25)) (2.1.3)\n",
            "Requirement already satisfied: traits>=4.6.0 in /usr/local/lib/python3.6/dist-packages (from mayavi->-r /content/requirements.txt (line 25)) (6.0.0)\n",
            "Requirement already satisfied: traitsui>=6.0.0 in /usr/local/lib/python3.6/dist-packages (from mayavi->-r /content/requirements.txt (line 25)) (6.1.3)\n",
            "Requirement already satisfied: vtk in /usr/local/lib/python3.6/dist-packages (from mayavi->-r /content/requirements.txt (line 25)) (8.1.2)\n",
            "Requirement already satisfied: imageio>=1.5; extra == \"save_movie\" in /usr/local/lib/python3.6/dist-packages (from PySurfer[save_movie]->-r /content/requirements.txt (line 26)) (2.4.1)\n",
            "Requirement already satisfied: sklearn in /usr/local/lib/python3.6/dist-packages (from nilearn->-r /content/requirements.txt (line 27)) (0.0)\n",
            "Processing /root/.cache/pip/wheels/2c/27/a5/62fb2a57d167d7b7164278de7399ba1504321c1d6c3a3802d5/quantities-0.12.4-cp36-none-any.whl\n",
            "Requirement already satisfied: snowballstemmer in /usr/local/lib/python3.6/dist-packages (from pydocstyle->-r /content/requirements.txt (line 30)) (2.0.0)\n",
            "Collecting mccabe<0.7.0,>=0.6.0\n",
            "  Using cached https://files.pythonhosted.org/packages/87/89/479dc97e18549e21354893e4ee4ef36db1d237534982482c3681ee6e7b57/mccabe-0.6.1-py2.py3-none-any.whl\n",
            "Collecting pyflakes<2.2.0,>=2.1.0\n",
            "  Using cached https://files.pythonhosted.org/packages/84/f2/ed0ffb887f8138a8fe5a621b8c0bb9598bfb3989e029f6c6a85ee66628ee/pyflakes-2.1.1-py2.py3-none-any.whl\n",
            "Collecting pycodestyle<2.6.0,>=2.5.0\n",
            "  Using cached https://files.pythonhosted.org/packages/0e/0c/04a353e104d2f324f8ee5f4b32012618c1c86dd79e52a433b64fceed511b/pycodestyle-2.5.0-py2.py3-none-any.whl\n",
            "Requirement already satisfied: entrypoints<0.4.0,>=0.3.0 in /usr/local/lib/python3.6/dist-packages (from flake8->-r /content/requirements.txt (line 31)) (0.3)\n",
            "Processing /root/.cache/pip/wheels/01/0c/4d/5ee4bf15d884ae86a3c995943c91613739b507328a30a96d61/scooby-0.5.2-cp36-none-any.whl\n",
            "Collecting meshio<5.0,>=4.0.3\n",
            "  Using cached https://files.pythonhosted.org/packages/ec/f7/d5e43b1904180b8e678cdb0a5b20105837b58f5c5e5b0367f1888e018573/meshio-4.0.10-py3-none-any.whl\n",
            "Collecting appdirs\n",
            "  Using cached https://files.pythonhosted.org/packages/56/eb/810e700ed1349edde4cbdc1b2a21e28cdf115f9faf263f6bbf8447c1abf3/appdirs-1.4.3-py2.py3-none-any.whl\n",
            "Requirement already satisfied: docutils>=0.11 in /usr/local/lib/python3.6/dist-packages (from sphinx>=1.6.5->numpydoc==1.0.0.dev0->-r /content/requirements.txt (line 24)) (0.15.2)\n",
            "Requirement already satisfied: imagesize in /usr/local/lib/python3.6/dist-packages (from sphinx>=1.6.5->numpydoc==1.0.0.dev0->-r /content/requirements.txt (line 24)) (1.2.0)\n",
            "Requirement already satisfied: requests>=2.0.0 in /usr/local/lib/python3.6/dist-packages (from sphinx>=1.6.5->numpydoc==1.0.0.dev0->-r /content/requirements.txt (line 24)) (2.21.0)\n",
            "Requirement already satisfied: sphinxcontrib-websupport in /usr/local/lib/python3.6/dist-packages (from sphinx>=1.6.5->numpydoc==1.0.0.dev0->-r /content/requirements.txt (line 24)) (1.2.0)\n",
            "Requirement already satisfied: babel!=2.0,>=1.3 in /usr/local/lib/python3.6/dist-packages (from sphinx>=1.6.5->numpydoc==1.0.0.dev0->-r /content/requirements.txt (line 24)) (2.8.0)\n",
            "Requirement already satisfied: alabaster<0.8,>=0.7 in /usr/local/lib/python3.6/dist-packages (from sphinx>=1.6.5->numpydoc==1.0.0.dev0->-r /content/requirements.txt (line 24)) (0.7.12)\n",
            "Requirement already satisfied: MarkupSafe>=0.23 in /usr/local/lib/python3.6/dist-packages (from Jinja2>=2.3->numpydoc==1.0.0.dev0->-r /content/requirements.txt (line 24)) (1.1.1)\n",
            "Collecting latexcodec>=1.0.4\n",
            "  Using cached https://files.pythonhosted.org/packages/8e/4f/6e7353dce0cfde419995117705035c4a0433a08aa7c49219ee589767766a/latexcodec-2.0.0-py2.py3-none-any.whl\n",
            "Requirement already satisfied: PyYAML>=3.01 in /usr/local/lib/python3.6/dist-packages (from pybtex>=0.20->sphinxcontrib-bibtex==1.1.0a0->-r /content/requirements.txt (line 32)) (3.13)\n",
            "Requirement already satisfied: configobj in /usr/local/lib/python3.6/dist-packages (from apptools->mayavi->-r /content/requirements.txt (line 25)) (5.0.6)\n",
            "Requirement already satisfied: pillow in /usr/local/lib/python3.6/dist-packages (from imageio>=1.5; extra == \"save_movie\"->PySurfer[save_movie]->-r /content/requirements.txt (line 26)) (7.0.0)\n",
            "Requirement already satisfied: importlib-metadata in /usr/local/lib/python3.6/dist-packages (from meshio<5.0,>=4.0.3->pyvista>=0.23.1->-r /content/requirements.txt (line 33)) (1.5.0)\n",
            "Requirement already satisfied: chardet<3.1.0,>=3.0.2 in /usr/local/lib/python3.6/dist-packages (from requests>=2.0.0->sphinx>=1.6.5->numpydoc==1.0.0.dev0->-r /content/requirements.txt (line 24)) (3.0.4)\n",
            "Requirement already satisfied: urllib3<1.25,>=1.21.1 in /usr/local/lib/python3.6/dist-packages (from requests>=2.0.0->sphinx>=1.6.5->numpydoc==1.0.0.dev0->-r /content/requirements.txt (line 24)) (1.24.3)\n",
            "Requirement already satisfied: idna<2.9,>=2.5 in /usr/local/lib/python3.6/dist-packages (from requests>=2.0.0->sphinx>=1.6.5->numpydoc==1.0.0.dev0->-r /content/requirements.txt (line 24)) (2.8)\n",
            "Requirement already satisfied: certifi>=2017.4.17 in /usr/local/lib/python3.6/dist-packages (from requests>=2.0.0->sphinx>=1.6.5->numpydoc==1.0.0.dev0->-r /content/requirements.txt (line 24)) (2019.11.28)\n",
            "Requirement already satisfied: zipp>=0.5 in /usr/local/lib/python3.6/dist-packages (from importlib-metadata->meshio<5.0,>=4.0.3->pyvista>=0.23.1->-r /content/requirements.txt (line 33)) (3.1.0)\n",
            "Building wheels for collected packages: mayavi, numpydoc, sphinxcontrib-bibtex\n",
            "  Building wheel for mayavi (setup.py) ... \u001b[?25lerror\n",
            "\u001b[31m  ERROR: Failed building wheel for mayavi\u001b[0m\n",
            "\u001b[?25h  Running setup.py clean for mayavi\n",
            "  Building wheel for numpydoc (setup.py) ... \u001b[?25l\u001b[?25hdone\n",
            "  Created wheel for numpydoc: filename=numpydoc-1.0.0.dev0-cp36-none-any.whl size=46917 sha256=73ea004d14904671b52ce72e896b234cb9aa2a265f855a4faf12c68b06793a6a\n",
            "  Stored in directory: /tmp/pip-ephem-wheel-cache-9bli8vfr/wheels/8b/4a/13/5f5cd8f8536163034853282096376ae71e2eb3f2ff5c653df1\n",
            "  Building wheel for sphinxcontrib-bibtex (setup.py) ... \u001b[?25l\u001b[?25hdone\n",
            "  Created wheel for sphinxcontrib-bibtex: filename=sphinxcontrib_bibtex-1.1.0a0-cp36-none-any.whl size=19720 sha256=ab5fa377e9831fc4427bfba54262dbcdc69c50fbaaf33687a362d7ba9b5327a1\n",
            "  Stored in directory: /tmp/pip-ephem-wheel-cache-9bli8vfr/wheels/93/96/22/6b3eecb7bc9bc37c1a16529a66267b6cf9ff40573f6a30ef2b\n",
            "Successfully built numpydoc sphinxcontrib-bibtex\n",
            "Failed to build mayavi\n",
            "\u001b[31mERROR: sphinxcontrib-bibtex 1.1.0a0 has requirement Sphinx>=2.0, but you'll have sphinx 1.8.5 which is incompatible.\u001b[0m\n",
            "Installing collected packages: mayavi, PySurfer, nilearn, quantities, neo, pydocstyle, mccabe, pyflakes, pycodestyle, flake8, scooby, meshio, appdirs, pyvista, numpydoc, latexcodec, pybtex, pybtex-docutils, oset, sphinxcontrib-bibtex\n",
            "    Running setup.py install for mayavi ... \u001b[?25l\u001b[?25herror\n",
            "\u001b[31mERROR: Command errored out with exit status -6: /usr/bin/python3 -u -c 'import sys, setuptools, tokenize; sys.argv[0] = '\"'\"'/tmp/pip-install-z7uc1_xz/mayavi/setup.py'\"'\"'; __file__='\"'\"'/tmp/pip-install-z7uc1_xz/mayavi/setup.py'\"'\"';f=getattr(tokenize, '\"'\"'open'\"'\"', open)(__file__);code=f.read().replace('\"'\"'\\r\\n'\"'\"', '\"'\"'\\n'\"'\"');f.close();exec(compile(code, __file__, '\"'\"'exec'\"'\"'))' install --record /tmp/pip-record-tvj5jbaj/install-record.txt --single-version-externally-managed --compile Check the logs for full command output.\u001b[0m\n",
            "Requirement already up-to-date: mne in /usr/local/lib/python3.6/dist-packages (0.19.2)\n",
            "Requirement already satisfied, skipping upgrade: scipy>=0.17.1 in /usr/local/lib/python3.6/dist-packages (from mne) (1.4.1)\n",
            "Requirement already satisfied, skipping upgrade: numpy>=1.11.3 in /usr/local/lib/python3.6/dist-packages (from mne) (1.18.1)\n"
          ],
          "name": "stdout"
        }
      ]
    },
    {
      "cell_type": "code",
      "metadata": {
        "id": "_6uehW7nnfk7",
        "colab_type": "code",
        "colab": {}
      },
      "source": [
        "#Makes a labels array for a given file\n",
        "def make_labels(filename):\n",
        "  #Open summary file for reading\n",
        "  with open('/content/db/chb01/chb01-summary.txt', 'r') as f:\n",
        "    data = f.read()\n",
        "  \n",
        "  #Parse through looking for specific file\n",
        "  for x in range(0, len(data)):\n",
        "    if data[x:x+23] == \"File Name: \" + filename:\n",
        "\n",
        "      #Get number of seizures\n",
        "      numSeiz = int(data[x+102:x+103])\n",
        "      labels = np.zeros(720)\n",
        "\n",
        "      #If 1 get start and end times and edits zeros array\n",
        "      if numSeiz == 1:\n",
        "        start = int(data[x+124:x+128])\n",
        "        startIter = int(start/5)\n",
        "        end = int(data[x+155:x+159])\n",
        "        endIter = int(end/5)\n",
        "        for iter in range(startIter, endIter):\n",
        "          labels[iter] = 1\n",
        "\n",
        "      #If 2 placehold for now\n",
        "      elif numSeiz == 2:\n",
        "        print(\"2 is not ready yet\")\n",
        "        exit\n",
        "\n",
        "      return labels"
      ],
      "execution_count": null,
      "outputs": []
    },
    {
      "cell_type": "code",
      "metadata": {
        "id": "Fmj78FDjOieP",
        "colab_type": "code",
        "colab": {}
      },
      "source": [
        "#Given filename returns data in correct format\n",
        "def make_data(filename):\n",
        "  path = \"/content/db/chb01/\" + filename\n",
        "  data = mne.io.read_raw_edf(path,preload=True).get_data()\n",
        "  data = data.reshape(720, 256, 23, 5)\n",
        "  return data"
      ],
      "execution_count": null,
      "outputs": []
    },
    {
      "cell_type": "code",
      "metadata": {
        "id": "7tjVF7Gx91_Y",
        "colab_type": "code",
        "colab": {
          "base_uri": "https://localhost:8080/",
          "height": 275
        },
        "outputId": "6a2a53d3-7dae-4eda-895c-4cdbbb8db73c"
      },
      "source": [
        "#Used to install Tensorflow\n",
        "import tensorflow as tf\n",
        "\n",
        "#Make the training data\n",
        "file3        = \"chb01_03.edf\"\n",
        "train_data   = make_data(file3)\n",
        "train_labels = make_labels(file3)\n",
        "\n",
        "#Make the test data\n",
        "file4       = \"chb01_04.edf\"\n",
        "test_data   = make_data(file4)\n",
        "test_labels = make_labels(file4)\n"
      ],
      "execution_count": null,
      "outputs": [
        {
          "output_type": "stream",
          "text": [
            "Extracting EDF parameters from /content/db/chb01/chb01_03.edf...\n",
            "EDF file detected\n",
            "Setting channel info structure...\n",
            "Creating raw.info structure...\n",
            "Reading 0 ... 921599  =      0.000 ...  3599.996 secs...\n"
          ],
          "name": "stdout"
        },
        {
          "output_type": "stream",
          "text": [
            "<ipython-input-22-5669a0484ebd>:3: RuntimeWarning: Channel names are not unique, found duplicates for: {'T8-P8'}. Applying running numbers for duplicates.\n",
            "  data = mne.io.read_raw_edf(path,preload=True).get_data()\n"
          ],
          "name": "stderr"
        },
        {
          "output_type": "stream",
          "text": [
            "Extracting EDF parameters from /content/db/chb01/chb01_04.edf...\n",
            "EDF file detected\n",
            "Setting channel info structure...\n",
            "Creating raw.info structure...\n",
            "Reading 0 ... 921599  =      0.000 ...  3599.996 secs...\n"
          ],
          "name": "stdout"
        },
        {
          "output_type": "stream",
          "text": [
            "<ipython-input-22-5669a0484ebd>:3: RuntimeWarning: Channel names are not unique, found duplicates for: {'T8-P8'}. Applying running numbers for duplicates.\n",
            "  data = mne.io.read_raw_edf(path,preload=True).get_data()\n"
          ],
          "name": "stderr"
        }
      ]
    },
    {
      "cell_type": "code",
      "metadata": {
        "id": "DRQ4X-Bunbbc",
        "colab_type": "code",
        "colab": {
          "base_uri": "https://localhost:8080/",
          "height": 493
        },
        "outputId": "c07cf186-2f6c-433a-af20-cc75a8f47094"
      },
      "source": [
        "# Load some neural network functions we'll be using.\n",
        "from tensorflow.keras.layers import Input, Conv2D, AveragePooling2D, Dense, Flatten\n",
        "from tensorflow.keras.models import Model\n",
        "\n",
        "# Our input feature map is 720x1280x23\n",
        "eeg_input = Input(shape=(256, 23, 5))\n",
        "\n",
        "#We start with 3 convolutional layers with kernels based on EEG channels\n",
        "#We use an AvgPool layer since each channel should increase in activity during a seizure\n",
        "c1 = Conv2D(filters=16, kernel_size=(23, 5))(eeg_input)\n",
        "a1 = AveragePooling2D(pool_size=2)(c1)\n",
        "c2 = Conv2D(filters=32, kernel_size=(23, 5))(a1)\n",
        "a2 = AveragePooling2D(pool_size=2)(c2)\n",
        "c3 = Conv2D(filters=64, kernel_size=(23, 1))(a2)\n",
        "a3 = AveragePooling2D(pool_size=2)(c3)\n",
        "\n",
        "f1 = Flatten()(a3)\n",
        "d1 = Dense(256, activation='relu')(f1)\n",
        "output = Dense(1, activation='sigmoid')(d1)\n",
        "model = Model(eeg_input, output)\n",
        "model.summary()"
      ],
      "execution_count": null,
      "outputs": [
        {
          "output_type": "stream",
          "text": [
            "Model: \"model_1\"\n",
            "_________________________________________________________________\n",
            "Layer (type)                 Output Shape              Param #   \n",
            "=================================================================\n",
            "input_2 (InputLayer)         [(None, 256, 23, 5)]      0         \n",
            "_________________________________________________________________\n",
            "conv2d_3 (Conv2D)            (None, 234, 19, 16)       9216      \n",
            "_________________________________________________________________\n",
            "average_pooling2d_3 (Average (None, 117, 9, 16)        0         \n",
            "_________________________________________________________________\n",
            "conv2d_4 (Conv2D)            (None, 95, 5, 32)         58912     \n",
            "_________________________________________________________________\n",
            "average_pooling2d_4 (Average (None, 47, 2, 32)         0         \n",
            "_________________________________________________________________\n",
            "conv2d_5 (Conv2D)            (None, 25, 2, 64)         47168     \n",
            "_________________________________________________________________\n",
            "average_pooling2d_5 (Average (None, 12, 1, 64)         0         \n",
            "_________________________________________________________________\n",
            "flatten_1 (Flatten)          (None, 768)               0         \n",
            "_________________________________________________________________\n",
            "dense_2 (Dense)              (None, 256)               196864    \n",
            "_________________________________________________________________\n",
            "dense_3 (Dense)              (None, 1)                 257       \n",
            "=================================================================\n",
            "Total params: 312,417\n",
            "Trainable params: 312,417\n",
            "Non-trainable params: 0\n",
            "_________________________________________________________________\n"
          ],
          "name": "stdout"
        }
      ]
    },
    {
      "cell_type": "code",
      "metadata": {
        "id": "JB4mvE1KnplP",
        "colab_type": "code",
        "colab": {}
      },
      "source": [
        "#Compile the model\n",
        "from tensorflow.keras.optimizers import RMSprop\n",
        "\n",
        "model.compile(loss = 'binary_crossentropy',\n",
        "              optimizer = RMSprop(lr = 0.001),\n",
        "              metrics = ['acc'])"
      ],
      "execution_count": null,
      "outputs": []
    },
    {
      "cell_type": "code",
      "metadata": {
        "id": "JmF4eY6uJhr6",
        "colab_type": "code",
        "colab": {
          "base_uri": "https://localhost:8080/",
          "height": 734
        },
        "outputId": "68f2e09b-8473-4cea-ce63-18dc87bd2e17"
      },
      "source": [
        "history = model.fit(\n",
        "    x=train_data, \n",
        "    y=train_labels, \n",
        "    batch_size=720, \n",
        "    epochs= 20, \n",
        "    validation_split=0.2)"
      ],
      "execution_count": null,
      "outputs": [
        {
          "output_type": "stream",
          "text": [
            "Train on 576 samples, validate on 144 samples\n",
            "Epoch 1/20\n",
            "576/576 [==============================] - 13s 23ms/sample - loss: 0.6931 - acc: 0.7049 - val_loss: 0.6629 - val_acc: 0.9444\n",
            "Epoch 2/20\n",
            "576/576 [==============================] - 13s 23ms/sample - loss: 0.6590 - acc: 1.0000 - val_loss: 0.3206 - val_acc: 0.9444\n",
            "Epoch 3/20\n",
            "576/576 [==============================] - 13s 23ms/sample - loss: 0.2509 - acc: 1.0000 - val_loss: 0.8960 - val_acc: 0.9444\n",
            "Epoch 4/20\n",
            "576/576 [==============================] - 13s 22ms/sample - loss: 9.8909e-08 - acc: 1.0000 - val_loss: 0.8963 - val_acc: 0.9444\n",
            "Epoch 5/20\n",
            "576/576 [==============================] - 13s 22ms/sample - loss: 9.8398e-08 - acc: 1.0000 - val_loss: 0.8966 - val_acc: 0.9444\n",
            "Epoch 6/20\n",
            "576/576 [==============================] - 13s 22ms/sample - loss: 9.7982e-08 - acc: 1.0000 - val_loss: 0.8967 - val_acc: 0.9444\n",
            "Epoch 7/20\n",
            "576/576 [==============================] - 13s 22ms/sample - loss: 9.7697e-08 - acc: 1.0000 - val_loss: 0.8968 - val_acc: 0.9444\n",
            "Epoch 8/20\n",
            "576/576 [==============================] - 13s 22ms/sample - loss: 9.7557e-08 - acc: 1.0000 - val_loss: 0.8969 - val_acc: 0.9444\n",
            "Epoch 9/20\n",
            "576/576 [==============================] - 13s 22ms/sample - loss: 9.7417e-08 - acc: 1.0000 - val_loss: 0.8970 - val_acc: 0.9444\n",
            "Epoch 10/20\n",
            "576/576 [==============================] - 13s 22ms/sample - loss: 9.7277e-08 - acc: 1.0000 - val_loss: 0.8970 - val_acc: 0.9444\n",
            "Epoch 11/20\n",
            "576/576 [==============================] - 13s 22ms/sample - loss: 9.7137e-08 - acc: 1.0000 - val_loss: 0.8971 - val_acc: 0.9444\n",
            "Epoch 12/20\n",
            "576/576 [==============================] - 13s 22ms/sample - loss: 9.6997e-08 - acc: 1.0000 - val_loss: 0.8972 - val_acc: 0.9444\n",
            "Epoch 13/20\n",
            "576/576 [==============================] - 13s 22ms/sample - loss: 9.6856e-08 - acc: 1.0000 - val_loss: 0.8973 - val_acc: 0.9444\n",
            "Epoch 14/20\n",
            "576/576 [==============================] - 13s 22ms/sample - loss: 9.6716e-08 - acc: 1.0000 - val_loss: 0.8973 - val_acc: 0.9444\n",
            "Epoch 15/20\n",
            "576/576 [==============================] - 13s 22ms/sample - loss: 9.6632e-08 - acc: 1.0000 - val_loss: 0.8973 - val_acc: 0.9444\n",
            "Epoch 16/20\n",
            "576/576 [==============================] - 13s 22ms/sample - loss: 9.6614e-08 - acc: 1.0000 - val_loss: 0.8973 - val_acc: 0.9444\n",
            "Epoch 17/20\n",
            "576/576 [==============================] - 13s 23ms/sample - loss: 9.6596e-08 - acc: 1.0000 - val_loss: 0.8974 - val_acc: 0.9444\n",
            "Epoch 18/20\n",
            "576/576 [==============================] - 13s 22ms/sample - loss: 9.6576e-08 - acc: 1.0000 - val_loss: 0.8974 - val_acc: 0.9444\n",
            "Epoch 19/20\n",
            "576/576 [==============================] - 13s 22ms/sample - loss: 9.6556e-08 - acc: 1.0000 - val_loss: 0.8974 - val_acc: 0.9444\n",
            "Epoch 20/20\n",
            "576/576 [==============================] - 13s 22ms/sample - loss: 9.6534e-08 - acc: 1.0000 - val_loss: 0.8974 - val_acc: 0.9444\n"
          ],
          "name": "stdout"
        }
      ]
    },
    {
      "cell_type": "code",
      "metadata": {
        "id": "QjOe60cDRGUk",
        "colab_type": "code",
        "colab": {
          "base_uri": "https://localhost:8080/",
          "height": 85
        },
        "outputId": "793a8548-5ea2-4ba2-ebaa-84b7ee33f7ea"
      },
      "source": [
        "# Evaluate the model's performance\n",
        "train_loss, train_acc = model.evaluate(train_data, train_labels)\n",
        "test_loss, test_acc = model.evaluate(test_data, test_labels)\n",
        "\n",
        "print('Training set accuracy:', train_acc)\n",
        "print('Test set accuracy:', test_acc)"
      ],
      "execution_count": null,
      "outputs": [
        {
          "output_type": "stream",
          "text": [
            "720/720 [==============================] - 4s 5ms/sample - loss: 0.1795 - acc: 0.9889\n",
            "720/720 [==============================] - 4s 5ms/sample - loss: 0.1122 - acc: 0.9931\n",
            "Training set accuracy: 0.98888886\n",
            "Test set accuracy: 0.9930556\n"
          ],
          "name": "stdout"
        }
      ]
    },
    {
      "cell_type": "code",
      "metadata": {
        "id": "JidJX2dHRvXf",
        "colab_type": "code",
        "colab": {
          "base_uri": "https://localhost:8080/",
          "height": 295
        },
        "outputId": "f4fb6894-646e-4db2-9bc2-e947f02d6c9c"
      },
      "source": [
        "import matplotlib.pyplot as plt\n",
        "\n",
        "# The history of our accuracy during training.\n",
        "plt.plot(history.history['acc'])\n",
        "plt.plot(history.history['val_acc'])\n",
        "plt.title('Model Accuracy')\n",
        "plt.ylabel('Accuracy')\n",
        "plt.xlabel('Number of epochs')\n",
        "plt.legend(['train', 'test'], loc='upper left')\n",
        "plt.show()"
      ],
      "execution_count": null,
      "outputs": [
        {
          "output_type": "display_data",
          "data": {
            "image/png": "[encoded data removed]",
            "text/plain": [
              "<Figure size 432x288 with 1 Axes>"
            ]
          },
          "metadata": {
            "tags": []
          }
        }
      ]
    },
    {
      "cell_type": "code",
      "metadata": {
        "id": "4qkscHquRx4I",
        "colab_type": "code",
        "colab": {
          "base_uri": "https://localhost:8080/",
          "height": 295
        },
        "outputId": "d2919038-2ede-4633-db40-fd8657670247"
      },
      "source": [
        "# The history of our cross-entropy loss during training.\n",
        "plt.plot(history.history['loss'])\n",
        "plt.plot(history.history['val_loss'])\n",
        "plt.title('Model Loss')\n",
        "plt.ylabel('Loss')\n",
        "plt.xlabel('Number of epochs')\n",
        "plt.legend(['train', 'test'], loc='upper right')\n",
        "plt.show()"
      ],
      "execution_count": null,
      "outputs": [
        {
          "output_type": "display_data",
          "data": {
            "image/png": "[encoded data removed]",
            "text/plain": [
              "<Figure size 432x288 with 1 Axes>"
            ]
          },
          "metadata": {
            "tags": []
          }
        }
      ]
    },
    {
      "cell_type": "markdown",
      "metadata": {
        "id": "zCsracLdIrOm",
        "colab_type": "text"
      },
      "source": [
        "We can now test on any other file from this patient using the same methods as above and yield similar results. This can also be done by importing any other patient however to save space we are only showing this one example. We have also removed all previous unnecessary code from the file but if you would like to see the previous iterations please check the edit history. \n",
        "\n",
        "Thanks for your time - Elijah, John, and Sruthi\n"
      ]
    }
  ]
}